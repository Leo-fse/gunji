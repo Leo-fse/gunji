{
 "cells": [
  {
   "cell_type": "code",
   "execution_count": 61,
   "metadata": {},
   "outputs": [
    {
     "output_type": "stream",
     "name": "stdout",
     "text": "https://www.fit-portal.go.jp/servlet/servlet.FileDownload?retURL=%2Fapex%2FPublicInfo&file=00P0K00001mA1ldUAC\nhttps://www.fit-portal.go.jp/servlet/servlet.FileDownload?retURL=%2Fapex%2FPublicInfo&file=00P0K00001mA1G9UAK\nhttps://www.fit-portal.go.jp/servlet/servlet.FileDownload?retURL=%2Fapex%2FPublicInfo&file=00P0K00001mA1AhUAK\nhttps://www.fit-portal.go.jp/servlet/servlet.FileDownload?retURL=%2Fapex%2FPublicInfo&file=00P0K00001mA1FVUA0\nhttps://www.fit-portal.go.jp/servlet/servlet.FileDownload?retURL=%2Fapex%2FPublicInfo&file=00P0K00001mA1oXUAS\nhttps://www.fit-portal.go.jp/servlet/servlet.FileDownload?retURL=%2Fapex%2FPublicInfo&file=00P0K00001mA1otUAC\nhttps://www.fit-portal.go.jp/servlet/servlet.FileDownload?retURL=%2Fapex%2FPublicInfo&file=00P0K00001mA1R0UAK\nhttps://www.fit-portal.go.jp/servlet/servlet.FileDownload?retURL=%2Fapex%2FPublicInfo&file=00P0K00001mA19ZUAS\nhttps://www.fit-portal.go.jp/servlet/servlet.FileDownload?retURL=%2Fapex%2FPublicInfo&file=00P0K00001mA1n5UAC\nhttps://www.fit-portal.go.jp/servlet/servlet.FileDownload?retURL=%2Fapex%2FPublicInfo&file=00P0K00001mA1FfUAK\nhttps://www.fit-portal.go.jp/servlet/servlet.FileDownload?retURL=%2Fapex%2FPublicInfo&file=00P0K00001mA1jEUAS\nhttps://www.fit-portal.go.jp/servlet/servlet.FileDownload?retURL=%2Fapex%2FPublicInfo&file=00P0K00001mA11HUAS\nhttps://www.fit-portal.go.jp/servlet/servlet.FileDownload?retURL=%2Fapex%2FPublicInfo&file=00P0K00001mA1lTUAS\nhttps://www.fit-portal.go.jp/servlet/servlet.FileDownload?retURL=%2Fapex%2FPublicInfo&file=00P0K00001mA1ltUAC\nhttps://www.fit-portal.go.jp/servlet/servlet.FileDownload?retURL=%2Fapex%2FPublicInfo&file=00P0K00001mA1nWUAS\nhttps://www.fit-portal.go.jp/servlet/servlet.FileDownload?retURL=%2Fapex%2FPublicInfo&file=00P0K00001mA1o8UAC\nhttps://www.fit-portal.go.jp/servlet/servlet.FileDownload?retURL=%2Fapex%2FPublicInfo&file=00P0K00001mA1ntUAC\nhttps://www.fit-portal.go.jp/servlet/servlet.FileDownload?retURL=%2Fapex%2FPublicInfo&file=00P0K00001mA1pmUAC\nhttps://www.fit-portal.go.jp/servlet/servlet.FileDownload?retURL=%2Fapex%2FPublicInfo&file=00P0K00001mA1BGUA0\nhttps://www.fit-portal.go.jp/servlet/servlet.FileDownload?retURL=%2Fapex%2FPublicInfo&file=00P0K00001mA1kGUAS\nhttps://www.fit-portal.go.jp/servlet/servlet.FileDownload?retURL=%2Fapex%2FPublicInfo&file=00P0K00001mA1oUUAS\nhttps://www.fit-portal.go.jp/servlet/servlet.FileDownload?retURL=%2Fapex%2FPublicInfo&file=00P0K00001mA1naUAC\nhttps://www.fit-portal.go.jp/servlet/servlet.FileDownload?retURL=%2Fapex%2FPublicInfo&file=00P0K00001mA1fCUAS\nhttps://www.fit-portal.go.jp/servlet/servlet.FileDownload?retURL=%2Fapex%2FPublicInfo&file=00P0K00001mA1GOUA0\nhttps://www.fit-portal.go.jp/servlet/servlet.FileDownload?retURL=%2Fapex%2FPublicInfo&file=00P0K00001mA1p8UAC\nhttps://www.fit-portal.go.jp/servlet/servlet.FileDownload?retURL=%2Fapex%2FPublicInfo&file=00P0K00001mA1lnUAC\nhttps://www.fit-portal.go.jp/servlet/servlet.FileDownload?retURL=%2Fapex%2FPublicInfo&file=00P0K00001mA1FqUAK\nhttps://www.fit-portal.go.jp/servlet/servlet.FileDownload?retURL=%2Fapex%2FPublicInfo&file=00P0K00001mA1mqUAC\nhttps://www.fit-portal.go.jp/servlet/servlet.FileDownload?retURL=%2Fapex%2FPublicInfo&file=00P0K00001mA1ifUAC\nhttps://www.fit-portal.go.jp/servlet/servlet.FileDownload?retURL=%2Fapex%2FPublicInfo&file=00P0K00001mA19tUAC\nhttps://www.fit-portal.go.jp/servlet/servlet.FileDownload?retURL=%2Fapex%2FPublicInfo&file=00P0K00001mA1mHUAS\nhttps://www.fit-portal.go.jp/servlet/servlet.FileDownload?retURL=%2Fapex%2FPublicInfo&file=00P0K00001mA1qLUAS\nhttps://www.fit-portal.go.jp/servlet/servlet.FileDownload?retURL=%2Fapex%2FPublicInfo&file=00P0K00001mA1kaUAC\nhttps://www.fit-portal.go.jp/servlet/servlet.FileDownload?retURL=%2Fapex%2FPublicInfo&file=00P0K00001mA1qaUAC\nhttps://www.fit-portal.go.jp/servlet/servlet.FileDownload?retURL=%2Fapex%2FPublicInfo&file=00P0K00001mA1mRUAS\nhttps://www.fit-portal.go.jp/servlet/servlet.FileDownload?retURL=%2Fapex%2FPublicInfo&file=00P0K00001mA1qzUAC\nhttps://www.fit-portal.go.jp/servlet/servlet.FileDownload?retURL=%2Fapex%2FPublicInfo&file=00P0K00001mA1pIUAS\nhttps://www.fit-portal.go.jp/servlet/servlet.FileDownload?retURL=%2Fapex%2FPublicInfo&file=00P0K00001mA1jiUAC\nhttps://www.fit-portal.go.jp/servlet/servlet.FileDownload?retURL=%2Fapex%2FPublicInfo&file=00P0K00001mA1mCUAS\nhttps://www.fit-portal.go.jp/servlet/servlet.FileDownload?retURL=%2Fapex%2FPublicInfo&file=00P0K00001mA1nyUAC\nhttps://www.fit-portal.go.jp/servlet/servlet.FileDownload?retURL=%2Fapex%2FPublicInfo&file=00P0K00001mA1nZUAS\nhttps://www.fit-portal.go.jp/servlet/servlet.FileDownload?retURL=%2Fapex%2FPublicInfo&file=00P0K00001mA1qGUAS\nhttps://www.fit-portal.go.jp/servlet/servlet.FileDownload?retURL=%2Fapex%2FPublicInfo&file=00P0K00001mA1kpUAC\nhttps://www.fit-portal.go.jp/servlet/servlet.FileDownload?retURL=%2Fapex%2FPublicInfo&file=00P0K00001mA1m2UAC\nhttps://www.fit-portal.go.jp/servlet/servlet.FileDownload?retURL=%2Fapex%2FPublicInfo&file=00P0K00001mA1leUAC\nhttps://www.fit-portal.go.jp/servlet/servlet.FileDownload?retURL=%2Fapex%2FPublicInfo&file=00P0K00001mA1lEUAS\nhttps://www.fit-portal.go.jp/servlet/servlet.FileDownload?retURL=%2Fapex%2FPublicInfo&file=00P0K00001mA1q6UAC\n"
    }
   ],
   "source": [
    "import os\n",
    "import time\n",
    "import urllib.error\n",
    "import urllib.request\n",
    "import re\n",
    "\n",
    "from bs4 import BeautifulSoup\n",
    "\n",
    "####################################################################################\n",
    "# https://tanuhack.com/selenium/\n",
    "from selenium import webdriver\n",
    "from selenium.webdriver.chrome.options import Options\n",
    "from selenium.webdriver.support.select import Select\n",
    "from selenium.webdriver.common.by import By\n",
    "from selenium.webdriver.common.keys import Keys\n",
    "from selenium.webdriver.common.alert import Alert\n",
    "from selenium.webdriver.support.ui import WebDriverWait\n",
    "from selenium.webdriver.support import expected_conditions as EC\n",
    "from selenium.common.exceptions import TimeoutException\n",
    "\n",
    "# Seleniumをあらゆる環境で起動させるChromeオプション\n",
    "options = Options()\n",
    "options.add_argument('--disable-gpu');\n",
    "options.add_argument('--disable-extensions');\n",
    "options.add_argument('--proxy-server=\"direct://\"');\n",
    "options.add_argument('--proxy-bypass-list=*');\n",
    "options.add_argument('--start-maximized');\n",
    "# options.add_argument('--headless'); # ※ヘッドレスモードを使用する場合、コメントアウトを外す\n",
    "options.add_argument('--kiosk') # <= 追加する\n",
    "\n",
    "# DRIVER_PATH = '{{ WebDriverのパスを指定(絶対でも相対パスでも可) }}'\n",
    "DRIVER_PATH = 'Selenium/chromedriver' # ローカル\n",
    "# DRIVER_PATH = '/app/.chromedriver/bin/chromedriver'        # heroku\n",
    "\n",
    "####################################################################################\n",
    "\n",
    "url = 'https://www.fit-portal.go.jp/PublicInfo'\n",
    "ua = 'Mozilla/5.0 (Macintosh; Intel Mac OS X 10_12_3) '\\\n",
    "     'AppleWebKit/537.36 (KHTML, like Gecko) '\\\n",
    "     'Chrome/55.0.2883.95 Safari/537.36 '\n",
    "\n",
    "req = urllib.request.Request(url, headers={'User-Agent': ua})\n",
    "html = urllib.request.urlopen(req)\n",
    "\n",
    "soup = BeautifulSoup(html, \"html.parser\")\n",
    "\n",
    "links=set()\n",
    "for a in soup.findAll('a', href=re.compile(r'^/servlet/servlet.FileDownload?')):\n",
    "    links.add('https://www.fit-portal.go.jp' + a['href'])\n",
    "\n",
    "####################################################################################\n",
    "\n",
    "# ブラウザの起動\n",
    "driver = webdriver.Chrome(executable_path=DRIVER_PATH, chrome_options=options)\n",
    "\n",
    "for link in links:\n",
    "    driver.get(link)"
   ]
  }
 ],
 "metadata": {
  "language_info": {
   "codemirror_mode": {
    "name": "ipython",
    "version": 3
   },
   "file_extension": ".py",
   "mimetype": "text/x-python",
   "name": "python",
   "nbconvert_exporter": "python",
   "pygments_lexer": "ipython3",
   "version": "3.7.6-final"
  },
  "orig_nbformat": 2,
  "kernelspec": {
   "name": "python37664bitbaseconda816ce4f776ad404f91c57a83c2dfbeab",
   "display_name": "Python 3.7.6 64-bit ('base': conda)"
  }
 },
 "nbformat": 4,
 "nbformat_minor": 2
}